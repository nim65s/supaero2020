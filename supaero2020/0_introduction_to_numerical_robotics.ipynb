{
 "cells": [
  {
   "cell_type": "markdown",
   "metadata": {},
   "source": [
    "# Introduction to numerical robotics\n",
    "\n",
    "This notebook is a very general introduction to Pinocchio. It presents the main method to manipulate the geometry model of a manipulator robot: set the configuration, compute the position of an effector, check the collision or the distance to the obstacle. The main idea is to give a brief introduction of the general topic: how to discover and learn a robot movement constrained by the environment, using iterative optimization methods.\n"
   ]
  },
  {
   "cell_type": "markdown",
   "metadata": {},
   "source": [
    "## Set up\n",
    "\n",
    "For this class, we need the UR5 robot model (urdf, in the robotpkg_example_robot_data), the pinocchio python software, the python optimizers from scipy and for the display of the results: the gepetto viewer and the python matplotlib. We have that with this set of imports:"
   ]
  },
  {
   "cell_type": "code",
   "execution_count": 1,
   "metadata": {},
   "outputs": [],
   "source": [
    "import pinocchio as pio\n",
    "from pinocchio.utils import *\n",
    "import eigenpy; eigenpy.switchToNumpyMatrix()\n",
    "import time\n",
    "from numpy.linalg import inv,norm\n",
    "import matplotlib.pylab as plt; plt.ion()\n",
    "from scipy.optimize import fmin_bfgs, fmin_slsqp\n",
    "from tp0.load_environment import createUR5WithObstacles,Target"
   ]
  },
  {
   "cell_type": "markdown",
   "metadata": {},
   "source": [
    "Let's first load the robot model and display it. You should first start Gepetto Viewer: in a shell (CTRL-ALT-T to open a terminal), run the command: gepetto-gui. A new GUI widow will open (with the logo of our team): this is the viewer. You are not suppose to close this window during the rest of the class, and if you do close it, remember to reopen it before trying to display anything from Python."
   ]
  },
  {
   "cell_type": "markdown",
   "metadata": {},
   "source": [
    "For this class, I wrapped the methods to load the robot model and create the obstacle field."
   ]
  },
  {
   "cell_type": "code",
   "execution_count": 2,
   "metadata": {},
   "outputs": [],
   "source": [
    "robot = createUR5WithObstacles()\n",
    "target = Target(robot.viewer,position = np.matrix([.5,.5]).T)"
   ]
  },
  {
   "cell_type": "markdown",
   "metadata": {},
   "source": [
    "The scene should not be displayed in the viewer (check it). The robot and the red obstacles are encoded in the robot object (we will not need to see in depth what is inside this object). The object Target is the green dot that the robot should reach. You can change the target position by editing target.position, and display the new position with target.display().\n",
    "\n",
    "You can display a new configuration of the robot with robot.display (take a numpy.matrix 6x1 in input):"
   ]
  },
  {
   "cell_type": "code",
   "execution_count": 3,
   "metadata": {},
   "outputs": [],
   "source": [
    "robot.display(np.matrix([0.,0.,1.,1.,0.,0.]).T)"
   ]
  },
  {
   "cell_type": "markdown",
   "metadata": {},
   "source": [
    "## Using the robot model\n",
    "The robot is a 6 degrees-of-freedom (dof) manipulator. To make the example simple, we will only use the joints 1 and 2. We will then typically represent a configuration of the robot by a vector q2 of dimension 2. Yet the robot model is dimension 6, so let's define 2 helper functions to pass from 2 to 6 and from 6 to 2.\n"
   ]
  },
  {
   "cell_type": "code",
   "execution_count": 4,
   "metadata": {},
   "outputs": [],
   "source": [
    "def q2_to_q6(q2):\n",
    "     '''\n",
    "     Transform a vector 2 into a vector 6, corresponding to locking 4 joints of the 6-dof arm. \n",
    "     '''\n",
    "     q6 = zero(6)\n",
    "     q6.flat[[1,2]] = q2\n",
    "     return q6\n",
    "\n",
    "def q6_to_q2(q6):\n",
    "     return q6[1:3]\n"
   ]
  },
  {
   "cell_type": "markdown",
   "metadata": {},
   "source": [
    "The following function computes the position of the end effector (in 2d):"
   ]
  },
  {
   "cell_type": "code",
   "execution_count": 5,
   "metadata": {},
   "outputs": [],
   "source": [
    "def endef(q):\n",
    "     '''Return the 2d position of the end effector.'''\n",
    "     pio.forwardKinematics(robot.model,robot.data,q)\n",
    "     return robot.data.oMi[-1].translation[[0,2]]"
   ]
  },
  {
   "cell_type": "markdown",
   "metadata": {},
   "source": [
    "The next function computes the distance between the end effector and the target."
   ]
  },
  {
   "cell_type": "code",
   "execution_count": 6,
   "metadata": {},
   "outputs": [],
   "source": [
    "def dist(q):\n",
    "     '''Return the distance between the end effector end the target (2d).'''\n",
    "     return norm(endef(q)-target.position)"
   ]
  },
  {
   "cell_type": "markdown",
   "metadata": {},
   "source": [
    "The last function checks if the robot is in collision, and returns True if a collision is detected."
   ]
  },
  {
   "cell_type": "code",
   "execution_count": 7,
   "metadata": {},
   "outputs": [],
   "source": [
    "def coll(q):\n",
    "     '''Return true if in collision, false otherwise.'''\n",
    "     pio.updateGeometryPlacements(robot.model,robot.data,robot.collision_model,robot.collision_data,q)\n",
    "     return pio.computeCollisions(robot.collision_model,robot.collision_data,False)"
   ]
  },
  {
   "cell_type": "markdown",
   "metadata": {},
   "source": [
    "## Random search of a valid configuration\n",
    "The free space is difficult to represent explicitely. We can sample the configuration space until a free configuration is found:"
   ]
  },
  {
   "cell_type": "code",
   "execution_count": 8,
   "metadata": {},
   "outputs": [],
   "source": [
    "def qrand(check=False):\n",
    "    '''\n",
    "    Return a random configuration. If check is True, this\n",
    "    configuration is not is collision\n",
    "    '''\n",
    "    while True:\n",
    "        q = q2_to_q6(rand(2)*6-3)  # sample between -3 and +3.\n",
    "        if not check or not coll(q): return q\n",
    "\n",
    "robot.display(qrand(check=True))"
   ]
  },
  {
   "cell_type": "markdown",
   "metadata": {},
   "source": [
    "Let's now find a valid configuration that is arbitrarily close to the target: sample until dist is small enough and coll is false (you may want to display the random trials inside the loop)."
   ]
  },
  {
   "cell_type": "code",
   "execution_count": 9,
   "metadata": {},
   "outputs": [],
   "source": [
    "# %load -r 61-70 tp0/solution.py"
   ]
  },
  {
   "cell_type": "markdown",
   "metadata": {},
   "source": [
    "## From a random configuration to the target\n",
    "Let' s now start from a random configuration. How can we find a path that bring the robot toward the target without touching the obstacles. Any idea?"
   ]
  },
  {
   "cell_type": "code",
   "execution_count": 10,
   "metadata": {},
   "outputs": [],
   "source": [
    "# %load -r 76-87 tp0/solution.py"
   ]
  },
  {
   "cell_type": "markdown",
   "metadata": {},
   "source": [
    "## Configuration space\n",
    "Let's try to have a better look of the configuration space. In this case, it is easy, as it is dimension 2: we can sample it exhaustively and plot it in 2d. For that, let's introduce another function to compute the distance to collision:"
   ]
  },
  {
   "cell_type": "code",
   "execution_count": 11,
   "metadata": {},
   "outputs": [],
   "source": [
    "def collisionDistance(q):\n",
    "     '''Return the minimal distance between robot and environment. '''\n",
    "     threshold = 1e-2\n",
    "     pio.updateGeometryPlacements(robot.model,robot.data,robot.collision_model,robot.collision_data,q)\n",
    "     if pio.computeCollisions(robot.collision_model,robot.collision_data,False): return -threshold\n",
    "     idx = pio.computeDistances(robot.collision_model,robot.collision_data)\n",
    "     return pio.computeDistance(robot.collision_model,robot.collision_data,idx).min_distance - threshold"
   ]
  },
  {
   "cell_type": "markdown",
   "metadata": {},
   "source": [
    "Now, let's sample the configuration space and plot the distance-to-target and the distance-to-obstacle field."
   ]
  },
  {
   "cell_type": "code",
   "execution_count": 12,
   "metadata": {},
   "outputs": [
    {
     "data": {
      "image/png": "[encoded data removed]",
      "text/plain": [
       "<Figure size 432x288 with 2 Axes>"
      ]
     },
     "metadata": {
      "needs_background": "light"
     },
     "output_type": "display_data"
    }
   ],
   "source": [
    "# %load -r 93-126 tp0/solution.py\n",
    "def sampleSpace(nbSamples=500):\n",
    "     '''\n",
    "     Sample nbSamples configurations and store them in two lists depending\n",
    "     if the configuration is in free space (hfree) or in collision (hcol), along\n",
    "     with the distance to the target and the distance to the obstacles.\n",
    "     '''\n",
    "     hcol = []\n",
    "     hfree = []\n",
    "     for i in range(nbSamples):\n",
    "          q = qrand(False)\n",
    "          if not coll(q):\n",
    "               hfree.append( list(q6_to_q2(q).flat) + [ dist(q), collisionDistance(q) ])\n",
    "          else:\n",
    "               hcol.append(  list(q6_to_q2(q).flat) + [ dist(q), 1e-2 ])\n",
    "     return hcol,hfree\n",
    "\n",
    "def plotConfigurationSpace(hcol,hfree):\n",
    "     '''\n",
    "     Plot 2 \"scatter\" plots: the first one plot the distance to the target for \n",
    "     each configuration, the second plots the distance to the obstacles (axis q1,q2, \n",
    "     distance in the color space).\n",
    "     '''\n",
    "     htotal = hcol + hfree\n",
    "     h=np.array(htotal)\n",
    "     plt.subplot(2,1,1)\n",
    "     plt.scatter(h[:,0],h[:,1],c=h[:,2],s=20,lw=0)\n",
    "     plt.title(\"Distance to the target\")\n",
    "     plt.subplot(2,1,2)\n",
    "     plt.scatter(h[:,0],h[:,1],c=h[:,3],s=20,lw=0)\n",
    "     plt.title(\"Distance to the obstacles\")\n",
    "\n",
    "hcol,hfree = sampleSpace(nbSamples=100)\n",
    "plotConfigurationSpace(hcol,hfree)\n"
   ]
  },
  {
   "cell_type": "markdown",
   "metadata": {},
   "source": [
    "## Optimize the distance under non-collision constraint\n",
    "Finally, let's use one of the classic python solvers (from scipy) to search for a robot configuration that optimizes the distance to the target, under the constraint that the distance to collision is positive.\n",
    "For that, we need to define a cost function (taking the robot configuration and return a scalar) and a constraint function (taking again the robot configuration and returning a scalar or a vector of scalar that should be positive). We additionally use the \"callback\" functionnality of the solver, to render the robot configuration corresponding to the current value of the decision variable inside the solver algorithm.\n",
    "We are going to use the \"SLSQP\" solver from scipy, which implements a \"sequential quadratic program\" algorithm and accepts constraints."
   ]
  },
  {
   "cell_type": "code",
   "execution_count": 13,
   "metadata": {},
   "outputs": [
    {
     "name": "stdout",
     "output_type": "stream",
     "text": [
      "Optimization terminated successfully.    (Exit mode 0)\n",
      "            Current function value: 5.792510325225519e-07\n",
      "            Iterations: 46\n",
      "            Function evaluations: 395\n",
      "            Gradient evaluations: 46\n"
     ]
    },
    {
     "data": {
      "text/plain": [
       "array([-1.34173014,  1.11253466, -0.61569023,  0.        ,  0.        ,\n",
       "        0.        ])"
      ]
     },
     "execution_count": 13,
     "metadata": {},
     "output_type": "execute_result"
    }
   ],
   "source": [
    "# %load  -r 131-159 tp0/solution.py\n",
    "def cost(q):\n",
    "     '''\n",
    "     Cost function: distance to the target\n",
    "     '''\n",
    "     return dist(q2_to_q6(q))\n",
    "     \n",
    "def constraint(q):\n",
    "     '''\n",
    "     Constraint function: distance to the obstacle should be positive.\n",
    "     '''\n",
    "     return collisionDistance(q2_to_q6(q))\n",
    "     \n",
    "def callback(q):\n",
    "     '''\n",
    "     At each optimization step, display the robot configuration in gepetto-viewer.\n",
    "     '''\n",
    "     robot.display(q2_to_q6(q))\n",
    "     time.sleep(.001)\n",
    "\n",
    "def optimize():\n",
    "     '''\n",
    "     Optimize from an initial random configuration to discover a collision-free\n",
    "     configuration as close as possible to the target. \n",
    "     '''\n",
    "     return fmin_slsqp(x0=qrand(check=True),\n",
    "                       func=cost,\n",
    "                       f_ieqcons=constraint,callback=callback)\n",
    "\n",
    "optimize()"
   ]
  },
  {
   "cell_type": "markdown",
   "metadata": {},
   "source": [
    "Look at the output of the solver. It always returns a variable value, but sometimes the algorithm fails being traped in an unfeasible region. Most of the time, the solver converges to a local minimum where the final distance to the target is nonzero"
   ]
  },
  {
   "cell_type": "code",
   "execution_count": null,
   "metadata": {},
   "outputs": [],
   "source": []
  }
 ],
 "metadata": {
  "kernelspec": {
   "display_name": "Python 3",
   "language": "python",
   "name": "python3"
  },
  "language_info": {
   "codemirror_mode": {
    "name": "ipython",
    "version": 3
   },
   "file_extension": ".py",
   "mimetype": "text/x-python",
   "name": "python",
   "nbconvert_exporter": "python",
   "pygments_lexer": "ipython3",
   "version": "3.5.2"
  }
 },
 "nbformat": 4,
 "nbformat_minor": 2
}
